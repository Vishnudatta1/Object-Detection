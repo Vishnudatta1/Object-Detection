{
  "cells": [
    {
      "cell_type": "markdown",
      "metadata": {
        "id": "palestinian-israeli"
      },
      "source": [
        "### This notebook requires a GPU runtime to run.\n",
        "### Please select the menu option \"Runtime\" -> \"Change runtime type\", select \"Hardware Accelerator\" -> \"GPU\" and click \"SAVE\"\n",
        "\n",
        "----------------------------------------------------------------------\n",
        "\n",
        "# SSD\n",
        "\n",
        "*Author: NVIDIA*\n",
        "\n",
        "**Single Shot MultiBox Detector model for object detection**\n",
        "\n",
        "_ | _\n",
        "- | -\n",
        "![alt](https://pytorch.org/assets/images/ssd_diagram.png) | ![alt](https://pytorch.org/assets/images/ssd.png)\n",
        "\n",
        "\n",
        "\n",
        "### Model Description\n",
        "\n",
        "This SSD300 model is based on the\n",
        "[SSD: Single Shot MultiBox Detector](https://arxiv.org/abs/1512.02325) paper, which\n",
        "describes SSD as “a method for detecting objects in images using a single deep neural network\".\n",
        "The input size is fixed to 300x300.\n",
        "\n",
        "The main difference between this model and the one described in the paper is in the backbone.\n",
        "Specifically, the VGG model is obsolete and is replaced by the ResNet-50 model.\n",
        "\n",
        "From the\n",
        "[Speed/accuracy trade-offs for modern convolutional object detectors](https://arxiv.org/abs/1611.10012)\n",
        "paper, the following enhancements were made to the backbone:\n",
        "*   The conv5_x, avgpool, fc and softmax layers were removed from the original classification model.\n",
        "*   All strides in conv4_x are set to 1x1.\n",
        "\n",
        "The backbone is followed by 5 additional convolutional layers.\n",
        "In addition to the convolutional layers, we attached 6 detection heads:\n",
        "*   The first detection head is attached to the last conv4_x layer.\n",
        "*   The other five detection heads are attached to the corresponding 5 additional layers.\n",
        "\n",
        "Detector heads are similar to the ones referenced in the paper, however,\n",
        "they are enhanced by additional BatchNorm layers after each convolution.\n",
        "\n",
        "### Example\n",
        "\n",
        "In the example below we will use the pretrained SSD model to detect objects in sample images and visualize the result.\n",
        "\n",
        "To run the example you need some extra python packages installed. These are needed for preprocessing images and visualization."
      ],
      "id": "palestinian-israeli"
    },
    {
      "cell_type": "code",
      "execution_count": null,
      "metadata": {
        "colab": {
          "base_uri": "https://localhost:8080/"
        },
        "id": "differential-vulnerability",
        "outputId": "5642092c-14df-4c37-f7e4-4d9963c3450a"
      },
      "outputs": [
        {
          "output_type": "stream",
          "name": "stdout",
          "text": [
            "Looking in indexes: https://pypi.org/simple, https://us-python.pkg.dev/colab-wheels/public/simple/\n",
            "Requirement already satisfied: numpy in /usr/local/lib/python3.7/dist-packages (1.21.6)\n",
            "Requirement already satisfied: scipy in /usr/local/lib/python3.7/dist-packages (1.4.1)\n",
            "Requirement already satisfied: scikit-image in /usr/local/lib/python3.7/dist-packages (0.18.3)\n",
            "Requirement already satisfied: matplotlib in /usr/local/lib/python3.7/dist-packages (3.2.2)\n",
            "Requirement already satisfied: tifffile>=2019.7.26 in /usr/local/lib/python3.7/dist-packages (from scikit-image) (2021.11.2)\n",
            "Requirement already satisfied: networkx>=2.0 in /usr/local/lib/python3.7/dist-packages (from scikit-image) (2.6.3)\n",
            "Requirement already satisfied: PyWavelets>=1.1.1 in /usr/local/lib/python3.7/dist-packages (from scikit-image) (1.3.0)\n",
            "Requirement already satisfied: imageio>=2.3.0 in /usr/local/lib/python3.7/dist-packages (from scikit-image) (2.4.1)\n",
            "Requirement already satisfied: pillow!=7.1.0,!=7.1.1,>=4.3.0 in /usr/local/lib/python3.7/dist-packages (from scikit-image) (7.1.2)\n",
            "Requirement already satisfied: cycler>=0.10 in /usr/local/lib/python3.7/dist-packages (from matplotlib) (0.11.0)\n",
            "Requirement already satisfied: pyparsing!=2.0.4,!=2.1.2,!=2.1.6,>=2.0.1 in /usr/local/lib/python3.7/dist-packages (from matplotlib) (3.0.9)\n",
            "Requirement already satisfied: kiwisolver>=1.0.1 in /usr/local/lib/python3.7/dist-packages (from matplotlib) (1.4.3)\n",
            "Requirement already satisfied: python-dateutil>=2.1 in /usr/local/lib/python3.7/dist-packages (from matplotlib) (2.8.2)\n",
            "Requirement already satisfied: typing-extensions in /usr/local/lib/python3.7/dist-packages (from kiwisolver>=1.0.1->matplotlib) (4.1.1)\n",
            "Requirement already satisfied: six>=1.5 in /usr/local/lib/python3.7/dist-packages (from python-dateutil>=2.1->matplotlib) (1.15.0)\n"
          ]
        }
      ],
      "source": [
        "%%bash\n",
        "pip install numpy scipy scikit-image matplotlib"
      ],
      "id": "differential-vulnerability"
    },
    {
      "cell_type": "markdown",
      "metadata": {
        "id": "executive-cache"
      },
      "source": [
        "Load an SSD model pretrained on COCO dataset, as well as a set of utility methods for convenient and comprehensive formatting of input and output of the model."
      ],
      "id": "executive-cache"
    },
    {
      "cell_type": "code",
      "execution_count": null,
      "metadata": {
        "colab": {
          "base_uri": "https://localhost:8080/"
        },
        "id": "settled-banana",
        "outputId": "50c85669-1af0-4b73-f2da-957c1f39cae6"
      },
      "outputs": [
        {
          "output_type": "stream",
          "name": "stderr",
          "text": [
            "Using cache found in /root/.cache/torch/hub/NVIDIA_DeepLearningExamples_torchhub\n",
            "/root/.cache/torch/hub/NVIDIA_DeepLearningExamples_torchhub/PyTorch/Classification/ConvNets/image_classification/models/common.py:14: UserWarning: pytorch_quantization module not found, quantization will not be available\n",
            "  \"pytorch_quantization module not found, quantization will not be available\"\n",
            "/root/.cache/torch/hub/NVIDIA_DeepLearningExamples_torchhub/PyTorch/Classification/ConvNets/image_classification/models/efficientnet.py:18: UserWarning: pytorch_quantization module not found, quantization will not be available\n",
            "  \"pytorch_quantization module not found, quantization will not be available\"\n",
            "Using cache found in /root/.cache/torch/hub/NVIDIA_DeepLearningExamples_torchhub\n"
          ]
        }
      ],
      "source": [
        "import torch\n",
        "ssd_model = torch.hub.load('NVIDIA/DeepLearningExamples:torchhub', 'nvidia_ssd')\n",
        "utils = torch.hub.load('NVIDIA/DeepLearningExamples:torchhub', 'nvidia_ssd_processing_utils')"
      ],
      "id": "settled-banana"
    },
    {
      "cell_type": "markdown",
      "metadata": {
        "id": "entertaining-alcohol"
      },
      "source": [
        "Now, prepare the loaded model for inference"
      ],
      "id": "entertaining-alcohol"
    },
    {
      "cell_type": "code",
      "execution_count": null,
      "metadata": {
        "colab": {
          "base_uri": "https://localhost:8080/"
        },
        "id": "pretty-kazakhstan",
        "outputId": "a0258ff4-196a-41bc-a9db-6728d88ea76f"
      },
      "outputs": [
        {
          "output_type": "execute_result",
          "data": {
            "text/plain": [
              "SSD300(\n",
              "  (feature_extractor): ResNet(\n",
              "    (feature_extractor): Sequential(\n",
              "      (0): Conv2d(3, 64, kernel_size=(7, 7), stride=(2, 2), padding=(3, 3), bias=False)\n",
              "      (1): BatchNorm2d(64, eps=1e-05, momentum=0.1, affine=True, track_running_stats=True)\n",
              "      (2): ReLU(inplace=True)\n",
              "      (3): MaxPool2d(kernel_size=3, stride=2, padding=1, dilation=1, ceil_mode=False)\n",
              "      (4): Sequential(\n",
              "        (0): Bottleneck(\n",
              "          (conv1): Conv2d(64, 64, kernel_size=(1, 1), stride=(1, 1), bias=False)\n",
              "          (bn1): BatchNorm2d(64, eps=1e-05, momentum=0.1, affine=True, track_running_stats=True)\n",
              "          (conv2): Conv2d(64, 64, kernel_size=(3, 3), stride=(1, 1), padding=(1, 1), bias=False)\n",
              "          (bn2): BatchNorm2d(64, eps=1e-05, momentum=0.1, affine=True, track_running_stats=True)\n",
              "          (conv3): Conv2d(64, 256, kernel_size=(1, 1), stride=(1, 1), bias=False)\n",
              "          (bn3): BatchNorm2d(256, eps=1e-05, momentum=0.1, affine=True, track_running_stats=True)\n",
              "          (relu): ReLU(inplace=True)\n",
              "          (downsample): Sequential(\n",
              "            (0): Conv2d(64, 256, kernel_size=(1, 1), stride=(1, 1), bias=False)\n",
              "            (1): BatchNorm2d(256, eps=1e-05, momentum=0.1, affine=True, track_running_stats=True)\n",
              "          )\n",
              "        )\n",
              "        (1): Bottleneck(\n",
              "          (conv1): Conv2d(256, 64, kernel_size=(1, 1), stride=(1, 1), bias=False)\n",
              "          (bn1): BatchNorm2d(64, eps=1e-05, momentum=0.1, affine=True, track_running_stats=True)\n",
              "          (conv2): Conv2d(64, 64, kernel_size=(3, 3), stride=(1, 1), padding=(1, 1), bias=False)\n",
              "          (bn2): BatchNorm2d(64, eps=1e-05, momentum=0.1, affine=True, track_running_stats=True)\n",
              "          (conv3): Conv2d(64, 256, kernel_size=(1, 1), stride=(1, 1), bias=False)\n",
              "          (bn3): BatchNorm2d(256, eps=1e-05, momentum=0.1, affine=True, track_running_stats=True)\n",
              "          (relu): ReLU(inplace=True)\n",
              "        )\n",
              "        (2): Bottleneck(\n",
              "          (conv1): Conv2d(256, 64, kernel_size=(1, 1), stride=(1, 1), bias=False)\n",
              "          (bn1): BatchNorm2d(64, eps=1e-05, momentum=0.1, affine=True, track_running_stats=True)\n",
              "          (conv2): Conv2d(64, 64, kernel_size=(3, 3), stride=(1, 1), padding=(1, 1), bias=False)\n",
              "          (bn2): BatchNorm2d(64, eps=1e-05, momentum=0.1, affine=True, track_running_stats=True)\n",
              "          (conv3): Conv2d(64, 256, kernel_size=(1, 1), stride=(1, 1), bias=False)\n",
              "          (bn3): BatchNorm2d(256, eps=1e-05, momentum=0.1, affine=True, track_running_stats=True)\n",
              "          (relu): ReLU(inplace=True)\n",
              "        )\n",
              "      )\n",
              "      (5): Sequential(\n",
              "        (0): Bottleneck(\n",
              "          (conv1): Conv2d(256, 128, kernel_size=(1, 1), stride=(1, 1), bias=False)\n",
              "          (bn1): BatchNorm2d(128, eps=1e-05, momentum=0.1, affine=True, track_running_stats=True)\n",
              "          (conv2): Conv2d(128, 128, kernel_size=(3, 3), stride=(2, 2), padding=(1, 1), bias=False)\n",
              "          (bn2): BatchNorm2d(128, eps=1e-05, momentum=0.1, affine=True, track_running_stats=True)\n",
              "          (conv3): Conv2d(128, 512, kernel_size=(1, 1), stride=(1, 1), bias=False)\n",
              "          (bn3): BatchNorm2d(512, eps=1e-05, momentum=0.1, affine=True, track_running_stats=True)\n",
              "          (relu): ReLU(inplace=True)\n",
              "          (downsample): Sequential(\n",
              "            (0): Conv2d(256, 512, kernel_size=(1, 1), stride=(2, 2), bias=False)\n",
              "            (1): BatchNorm2d(512, eps=1e-05, momentum=0.1, affine=True, track_running_stats=True)\n",
              "          )\n",
              "        )\n",
              "        (1): Bottleneck(\n",
              "          (conv1): Conv2d(512, 128, kernel_size=(1, 1), stride=(1, 1), bias=False)\n",
              "          (bn1): BatchNorm2d(128, eps=1e-05, momentum=0.1, affine=True, track_running_stats=True)\n",
              "          (conv2): Conv2d(128, 128, kernel_size=(3, 3), stride=(1, 1), padding=(1, 1), bias=False)\n",
              "          (bn2): BatchNorm2d(128, eps=1e-05, momentum=0.1, affine=True, track_running_stats=True)\n",
              "          (conv3): Conv2d(128, 512, kernel_size=(1, 1), stride=(1, 1), bias=False)\n",
              "          (bn3): BatchNorm2d(512, eps=1e-05, momentum=0.1, affine=True, track_running_stats=True)\n",
              "          (relu): ReLU(inplace=True)\n",
              "        )\n",
              "        (2): Bottleneck(\n",
              "          (conv1): Conv2d(512, 128, kernel_size=(1, 1), stride=(1, 1), bias=False)\n",
              "          (bn1): BatchNorm2d(128, eps=1e-05, momentum=0.1, affine=True, track_running_stats=True)\n",
              "          (conv2): Conv2d(128, 128, kernel_size=(3, 3), stride=(1, 1), padding=(1, 1), bias=False)\n",
              "          (bn2): BatchNorm2d(128, eps=1e-05, momentum=0.1, affine=True, track_running_stats=True)\n",
              "          (conv3): Conv2d(128, 512, kernel_size=(1, 1), stride=(1, 1), bias=False)\n",
              "          (bn3): BatchNorm2d(512, eps=1e-05, momentum=0.1, affine=True, track_running_stats=True)\n",
              "          (relu): ReLU(inplace=True)\n",
              "        )\n",
              "        (3): Bottleneck(\n",
              "          (conv1): Conv2d(512, 128, kernel_size=(1, 1), stride=(1, 1), bias=False)\n",
              "          (bn1): BatchNorm2d(128, eps=1e-05, momentum=0.1, affine=True, track_running_stats=True)\n",
              "          (conv2): Conv2d(128, 128, kernel_size=(3, 3), stride=(1, 1), padding=(1, 1), bias=False)\n",
              "          (bn2): BatchNorm2d(128, eps=1e-05, momentum=0.1, affine=True, track_running_stats=True)\n",
              "          (conv3): Conv2d(128, 512, kernel_size=(1, 1), stride=(1, 1), bias=False)\n",
              "          (bn3): BatchNorm2d(512, eps=1e-05, momentum=0.1, affine=True, track_running_stats=True)\n",
              "          (relu): ReLU(inplace=True)\n",
              "        )\n",
              "      )\n",
              "      (6): Sequential(\n",
              "        (0): Bottleneck(\n",
              "          (conv1): Conv2d(512, 256, kernel_size=(1, 1), stride=(1, 1), bias=False)\n",
              "          (bn1): BatchNorm2d(256, eps=1e-05, momentum=0.1, affine=True, track_running_stats=True)\n",
              "          (conv2): Conv2d(256, 256, kernel_size=(3, 3), stride=(1, 1), padding=(1, 1), bias=False)\n",
              "          (bn2): BatchNorm2d(256, eps=1e-05, momentum=0.1, affine=True, track_running_stats=True)\n",
              "          (conv3): Conv2d(256, 1024, kernel_size=(1, 1), stride=(1, 1), bias=False)\n",
              "          (bn3): BatchNorm2d(1024, eps=1e-05, momentum=0.1, affine=True, track_running_stats=True)\n",
              "          (relu): ReLU(inplace=True)\n",
              "          (downsample): Sequential(\n",
              "            (0): Conv2d(512, 1024, kernel_size=(1, 1), stride=(1, 1), bias=False)\n",
              "            (1): BatchNorm2d(1024, eps=1e-05, momentum=0.1, affine=True, track_running_stats=True)\n",
              "          )\n",
              "        )\n",
              "        (1): Bottleneck(\n",
              "          (conv1): Conv2d(1024, 256, kernel_size=(1, 1), stride=(1, 1), bias=False)\n",
              "          (bn1): BatchNorm2d(256, eps=1e-05, momentum=0.1, affine=True, track_running_stats=True)\n",
              "          (conv2): Conv2d(256, 256, kernel_size=(3, 3), stride=(1, 1), padding=(1, 1), bias=False)\n",
              "          (bn2): BatchNorm2d(256, eps=1e-05, momentum=0.1, affine=True, track_running_stats=True)\n",
              "          (conv3): Conv2d(256, 1024, kernel_size=(1, 1), stride=(1, 1), bias=False)\n",
              "          (bn3): BatchNorm2d(1024, eps=1e-05, momentum=0.1, affine=True, track_running_stats=True)\n",
              "          (relu): ReLU(inplace=True)\n",
              "        )\n",
              "        (2): Bottleneck(\n",
              "          (conv1): Conv2d(1024, 256, kernel_size=(1, 1), stride=(1, 1), bias=False)\n",
              "          (bn1): BatchNorm2d(256, eps=1e-05, momentum=0.1, affine=True, track_running_stats=True)\n",
              "          (conv2): Conv2d(256, 256, kernel_size=(3, 3), stride=(1, 1), padding=(1, 1), bias=False)\n",
              "          (bn2): BatchNorm2d(256, eps=1e-05, momentum=0.1, affine=True, track_running_stats=True)\n",
              "          (conv3): Conv2d(256, 1024, kernel_size=(1, 1), stride=(1, 1), bias=False)\n",
              "          (bn3): BatchNorm2d(1024, eps=1e-05, momentum=0.1, affine=True, track_running_stats=True)\n",
              "          (relu): ReLU(inplace=True)\n",
              "        )\n",
              "        (3): Bottleneck(\n",
              "          (conv1): Conv2d(1024, 256, kernel_size=(1, 1), stride=(1, 1), bias=False)\n",
              "          (bn1): BatchNorm2d(256, eps=1e-05, momentum=0.1, affine=True, track_running_stats=True)\n",
              "          (conv2): Conv2d(256, 256, kernel_size=(3, 3), stride=(1, 1), padding=(1, 1), bias=False)\n",
              "          (bn2): BatchNorm2d(256, eps=1e-05, momentum=0.1, affine=True, track_running_stats=True)\n",
              "          (conv3): Conv2d(256, 1024, kernel_size=(1, 1), stride=(1, 1), bias=False)\n",
              "          (bn3): BatchNorm2d(1024, eps=1e-05, momentum=0.1, affine=True, track_running_stats=True)\n",
              "          (relu): ReLU(inplace=True)\n",
              "        )\n",
              "        (4): Bottleneck(\n",
              "          (conv1): Conv2d(1024, 256, kernel_size=(1, 1), stride=(1, 1), bias=False)\n",
              "          (bn1): BatchNorm2d(256, eps=1e-05, momentum=0.1, affine=True, track_running_stats=True)\n",
              "          (conv2): Conv2d(256, 256, kernel_size=(3, 3), stride=(1, 1), padding=(1, 1), bias=False)\n",
              "          (bn2): BatchNorm2d(256, eps=1e-05, momentum=0.1, affine=True, track_running_stats=True)\n",
              "          (conv3): Conv2d(256, 1024, kernel_size=(1, 1), stride=(1, 1), bias=False)\n",
              "          (bn3): BatchNorm2d(1024, eps=1e-05, momentum=0.1, affine=True, track_running_stats=True)\n",
              "          (relu): ReLU(inplace=True)\n",
              "        )\n",
              "        (5): Bottleneck(\n",
              "          (conv1): Conv2d(1024, 256, kernel_size=(1, 1), stride=(1, 1), bias=False)\n",
              "          (bn1): BatchNorm2d(256, eps=1e-05, momentum=0.1, affine=True, track_running_stats=True)\n",
              "          (conv2): Conv2d(256, 256, kernel_size=(3, 3), stride=(1, 1), padding=(1, 1), bias=False)\n",
              "          (bn2): BatchNorm2d(256, eps=1e-05, momentum=0.1, affine=True, track_running_stats=True)\n",
              "          (conv3): Conv2d(256, 1024, kernel_size=(1, 1), stride=(1, 1), bias=False)\n",
              "          (bn3): BatchNorm2d(1024, eps=1e-05, momentum=0.1, affine=True, track_running_stats=True)\n",
              "          (relu): ReLU(inplace=True)\n",
              "        )\n",
              "      )\n",
              "    )\n",
              "  )\n",
              "  (additional_blocks): ModuleList(\n",
              "    (0): Sequential(\n",
              "      (0): Conv2d(1024, 256, kernel_size=(1, 1), stride=(1, 1), bias=False)\n",
              "      (1): BatchNorm2d(256, eps=1e-05, momentum=0.1, affine=True, track_running_stats=True)\n",
              "      (2): ReLU(inplace=True)\n",
              "      (3): Conv2d(256, 512, kernel_size=(3, 3), stride=(2, 2), padding=(1, 1), bias=False)\n",
              "      (4): BatchNorm2d(512, eps=1e-05, momentum=0.1, affine=True, track_running_stats=True)\n",
              "      (5): ReLU(inplace=True)\n",
              "    )\n",
              "    (1): Sequential(\n",
              "      (0): Conv2d(512, 256, kernel_size=(1, 1), stride=(1, 1), bias=False)\n",
              "      (1): BatchNorm2d(256, eps=1e-05, momentum=0.1, affine=True, track_running_stats=True)\n",
              "      (2): ReLU(inplace=True)\n",
              "      (3): Conv2d(256, 512, kernel_size=(3, 3), stride=(2, 2), padding=(1, 1), bias=False)\n",
              "      (4): BatchNorm2d(512, eps=1e-05, momentum=0.1, affine=True, track_running_stats=True)\n",
              "      (5): ReLU(inplace=True)\n",
              "    )\n",
              "    (2): Sequential(\n",
              "      (0): Conv2d(512, 128, kernel_size=(1, 1), stride=(1, 1), bias=False)\n",
              "      (1): BatchNorm2d(128, eps=1e-05, momentum=0.1, affine=True, track_running_stats=True)\n",
              "      (2): ReLU(inplace=True)\n",
              "      (3): Conv2d(128, 256, kernel_size=(3, 3), stride=(2, 2), padding=(1, 1), bias=False)\n",
              "      (4): BatchNorm2d(256, eps=1e-05, momentum=0.1, affine=True, track_running_stats=True)\n",
              "      (5): ReLU(inplace=True)\n",
              "    )\n",
              "    (3): Sequential(\n",
              "      (0): Conv2d(256, 128, kernel_size=(1, 1), stride=(1, 1), bias=False)\n",
              "      (1): BatchNorm2d(128, eps=1e-05, momentum=0.1, affine=True, track_running_stats=True)\n",
              "      (2): ReLU(inplace=True)\n",
              "      (3): Conv2d(128, 256, kernel_size=(3, 3), stride=(1, 1), bias=False)\n",
              "      (4): BatchNorm2d(256, eps=1e-05, momentum=0.1, affine=True, track_running_stats=True)\n",
              "      (5): ReLU(inplace=True)\n",
              "    )\n",
              "    (4): Sequential(\n",
              "      (0): Conv2d(256, 128, kernel_size=(1, 1), stride=(1, 1), bias=False)\n",
              "      (1): BatchNorm2d(128, eps=1e-05, momentum=0.1, affine=True, track_running_stats=True)\n",
              "      (2): ReLU(inplace=True)\n",
              "      (3): Conv2d(128, 256, kernel_size=(3, 3), stride=(1, 1), bias=False)\n",
              "      (4): BatchNorm2d(256, eps=1e-05, momentum=0.1, affine=True, track_running_stats=True)\n",
              "      (5): ReLU(inplace=True)\n",
              "    )\n",
              "  )\n",
              "  (loc): ModuleList(\n",
              "    (0): Conv2d(1024, 16, kernel_size=(3, 3), stride=(1, 1), padding=(1, 1))\n",
              "    (1): Conv2d(512, 24, kernel_size=(3, 3), stride=(1, 1), padding=(1, 1))\n",
              "    (2): Conv2d(512, 24, kernel_size=(3, 3), stride=(1, 1), padding=(1, 1))\n",
              "    (3): Conv2d(256, 24, kernel_size=(3, 3), stride=(1, 1), padding=(1, 1))\n",
              "    (4): Conv2d(256, 16, kernel_size=(3, 3), stride=(1, 1), padding=(1, 1))\n",
              "    (5): Conv2d(256, 16, kernel_size=(3, 3), stride=(1, 1), padding=(1, 1))\n",
              "  )\n",
              "  (conf): ModuleList(\n",
              "    (0): Conv2d(1024, 324, kernel_size=(3, 3), stride=(1, 1), padding=(1, 1))\n",
              "    (1): Conv2d(512, 486, kernel_size=(3, 3), stride=(1, 1), padding=(1, 1))\n",
              "    (2): Conv2d(512, 486, kernel_size=(3, 3), stride=(1, 1), padding=(1, 1))\n",
              "    (3): Conv2d(256, 486, kernel_size=(3, 3), stride=(1, 1), padding=(1, 1))\n",
              "    (4): Conv2d(256, 324, kernel_size=(3, 3), stride=(1, 1), padding=(1, 1))\n",
              "    (5): Conv2d(256, 324, kernel_size=(3, 3), stride=(1, 1), padding=(1, 1))\n",
              "  )\n",
              ")"
            ]
          },
          "metadata": {},
          "execution_count": 3
        }
      ],
      "source": [
        "ssd_model.to('cuda')\n",
        "ssd_model.eval()"
      ],
      "id": "pretty-kazakhstan"
    },
    {
      "cell_type": "code",
      "execution_count": null,
      "metadata": {
        "colab": {
          "base_uri": "https://localhost:8080/"
        },
        "id": "jSYDRN64hpN_",
        "outputId": "b44ae9cd-642f-4eae-dceb-c2c1973c6338"
      },
      "outputs": [
        {
          "output_type": "stream",
          "name": "stdout",
          "text": [
            "Mounted at /content/gdrive/\n"
          ]
        }
      ],
      "source": [
        "from google.colab import drive\n",
        "drive.mount('/content/gdrive/', force_remount=True)"
      ],
      "id": "jSYDRN64hpN_"
    },
    {
      "cell_type": "code",
      "execution_count": null,
      "metadata": {
        "colab": {
          "base_uri": "https://localhost:8080/"
        },
        "id": "zoVKgiZPgbb3",
        "outputId": "d87d8328-28b0-455e-8ed5-574d9858bd10"
      },
      "outputs": [
        {
          "output_type": "stream",
          "name": "stdout",
          "text": [
            "> loaded n008-2018-08-01-15-16-36-0400__CAM_FRONT__1533151604512404.jpg (300, 300, 3)\n",
            "> loaded n008-2018-08-01-15-16-36-0400__CAM_FRONT__1533151605012404.jpg (300, 300, 3)\n",
            "> loaded n008-2018-08-01-15-16-36-0400__CAM_FRONT__1533151603512404.jpg (300, 300, 3)\n",
            "> loaded n008-2018-08-01-15-16-36-0400__CAM_FRONT__1533151604012404.jpg (300, 300, 3)\n",
            "> loaded n008-2018-08-01-15-16-36-0400__CAM_FRONT__1533151606012404.jpg (300, 300, 3)\n",
            "> loaded n008-2018-08-01-15-16-36-0400__CAM_FRONT__1533151611862404.jpg (300, 300, 3)\n",
            "> loaded n008-2018-08-01-15-16-36-0400__CAM_FRONT__1533151609512404.jpg (300, 300, 3)\n",
            "> loaded n008-2018-08-01-15-16-36-0400__CAM_FRONT__1533151608512404.jpg (300, 300, 3)\n",
            "> loaded n008-2018-08-01-15-16-36-0400__CAM_FRONT__1533151609912404.jpg (300, 300, 3)\n",
            "> loaded n008-2018-08-01-15-16-36-0400__CAM_FRONT__1533151605512404.jpg (300, 300, 3)\n",
            "> loaded n008-2018-08-01-15-16-36-0400__CAM_FRONT__1533151608012404.jpg (300, 300, 3)\n",
            "> loaded n008-2018-08-01-15-16-36-0400__CAM_FRONT__1533151609012404.jpg (300, 300, 3)\n",
            "> loaded n008-2018-08-01-15-16-36-0400__CAM_FRONT__1533151611412404.jpg (300, 300, 3)\n",
            "> loaded n008-2018-08-01-15-16-36-0400__CAM_FRONT__1533151610912404.jpg (300, 300, 3)\n",
            "> loaded n008-2018-08-01-15-16-36-0400__CAM_FRONT__1533151606512404.jpg (300, 300, 3)\n",
            "> loaded n008-2018-08-01-15-16-36-0400__CAM_FRONT__1533151607012404.jpg (300, 300, 3)\n",
            "> loaded n008-2018-08-01-15-16-36-0400__CAM_FRONT__1533151612362404.jpg (300, 300, 3)\n",
            "> loaded n008-2018-08-01-15-16-36-0400__CAM_FRONT__1533151610412404.jpg (300, 300, 3)\n",
            "> loaded n008-2018-08-01-15-16-36-0400__CAM_FRONT__1533151607512404.jpg (300, 300, 3)\n",
            "> loaded n008-2018-08-01-15-16-36-0400__CAM_FRONT__1533151614412404.jpg (300, 300, 3)\n",
            "> loaded n008-2018-08-01-15-16-36-0400__CAM_FRONT__1533151617912404.jpg (300, 300, 3)\n",
            "> loaded n008-2018-08-01-15-16-36-0400__CAM_FRONT__1533151620412404.jpg (300, 300, 3)\n",
            "> loaded n008-2018-08-01-15-16-36-0400__CAM_FRONT__1533151619912458.jpg (300, 300, 3)\n",
            "> loaded n008-2018-08-01-15-16-36-0400__CAM_FRONT__1533151617362404.jpg (300, 300, 3)\n",
            "> loaded n008-2018-08-01-15-16-36-0400__CAM_FRONT__1533151615912404.jpg (300, 300, 3)\n",
            "> loaded n008-2018-08-01-15-16-36-0400__CAM_FRONT__1533151618912404.jpg (300, 300, 3)\n",
            "> loaded n008-2018-08-01-15-16-36-0400__CAM_FRONT__1533151619412404.jpg (300, 300, 3)\n",
            "> loaded n008-2018-08-01-15-16-36-0400__CAM_FRONT__1533151616412404.jpg (300, 300, 3)\n",
            "> loaded n008-2018-08-01-15-16-36-0400__CAM_FRONT__1533151613912404.jpg (300, 300, 3)\n",
            "> loaded n008-2018-08-01-15-16-36-0400__CAM_FRONT__1533151615412404.jpg (300, 300, 3)\n",
            "> loaded n008-2018-08-01-15-16-36-0400__CAM_FRONT__1533151613362404.jpg (300, 300, 3)\n",
            "> loaded n008-2018-08-01-15-16-36-0400__CAM_FRONT__1533151618412404.jpg (300, 300, 3)\n",
            "> loaded n008-2018-08-01-15-16-36-0400__CAM_FRONT__1533151616912404.jpg (300, 300, 3)\n",
            "> loaded n008-2018-08-01-15-16-36-0400__CAM_FRONT__1533151612862404.jpg (300, 300, 3)\n",
            "> loaded n008-2018-08-01-15-16-36-0400__CAM_FRONT__1533151614912404.jpg (300, 300, 3)\n",
            "> loaded n008-2018-08-27-11-48-51-0400__CAM_FRONT__1535385094112404.jpg (300, 300, 3)\n",
            "> loaded n008-2018-08-27-11-48-51-0400__CAM_FRONT__1535385095412404.jpg (300, 300, 3)\n",
            "> loaded n008-2018-08-27-11-48-51-0400__CAM_FRONT__1535385092662404.jpg (300, 300, 3)\n",
            "> loaded n008-2018-08-27-11-48-51-0400__CAM_FRONT__1535385093612404.jpg (300, 300, 3)\n",
            "> loaded n008-2018-08-01-15-16-36-0400__CAM_FRONT__1533151621012404.jpg (300, 300, 3)\n",
            "> loaded n008-2018-08-27-11-48-51-0400__CAM_FRONT__1535385095912404.jpg (300, 300, 3)\n",
            "> loaded n008-2018-08-27-11-48-51-0400__CAM_FRONT__1535385094912404.jpg (300, 300, 3)\n",
            "> loaded n008-2018-08-01-15-16-36-0400__CAM_FRONT__1533151622912404.jpg (300, 300, 3)\n",
            "> loaded n008-2018-08-01-15-16-36-0400__CAM_FRONT__1533151621912404.jpg (300, 300, 3)\n",
            "> loaded n008-2018-08-27-11-48-51-0400__CAM_FRONT__1535385092112404.jpg (300, 300, 3)\n",
            "> loaded n008-2018-08-27-11-48-51-0400__CAM_FRONT__1535385094512404.jpg (300, 300, 3)\n",
            "> loaded n008-2018-08-27-11-48-51-0400__CAM_FRONT__1535385096362404.jpg (300, 300, 3)\n",
            "> loaded n008-2018-08-01-15-16-36-0400__CAM_FRONT__1533151621412404.jpg (300, 300, 3)\n",
            "> loaded n008-2018-08-27-11-48-51-0400__CAM_FRONT__1535385093162404.jpg (300, 300, 3)\n",
            "> loaded n008-2018-08-01-15-16-36-0400__CAM_FRONT__1533151622412404.jpg (300, 300, 3)\n",
            "> loaded n008-2018-08-27-11-48-51-0400__CAM_FRONT__1535385104412404.jpg (300, 300, 3)\n",
            "> loaded n008-2018-08-27-11-48-51-0400__CAM_FRONT__1535385098362404.jpg (300, 300, 3)\n",
            "> loaded n008-2018-08-27-11-48-51-0400__CAM_FRONT__1535385103912404.jpg (300, 300, 3)\n",
            "> loaded n008-2018-08-27-11-48-51-0400__CAM_FRONT__1535385097362404.jpg (300, 300, 3)\n",
            "> loaded n008-2018-08-27-11-48-51-0400__CAM_FRONT__1535385103412404.jpg (300, 300, 3)\n",
            "> loaded n008-2018-08-27-11-48-51-0400__CAM_FRONT__1535385099862404.jpg (300, 300, 3)\n",
            "> loaded n008-2018-08-27-11-48-51-0400__CAM_FRONT__1535385097862411.jpg (300, 300, 3)\n",
            "> loaded n008-2018-08-27-11-48-51-0400__CAM_FRONT__1535385101912404.jpg (300, 300, 3)\n",
            "> loaded n008-2018-08-27-11-48-51-0400__CAM_FRONT__1535385102912404.jpg (300, 300, 3)\n",
            "> loaded n008-2018-08-27-11-48-51-0400__CAM_FRONT__1535385096862404.jpg (300, 300, 3)\n",
            "> loaded n008-2018-08-27-11-48-51-0400__CAM_FRONT__1535385100862404.jpg (300, 300, 3)\n",
            "> loaded n008-2018-08-27-11-48-51-0400__CAM_FRONT__1535385102412404.jpg (300, 300, 3)\n",
            "> loaded n008-2018-08-27-11-48-51-0400__CAM_FRONT__1535385099362404.jpg (300, 300, 3)\n",
            "> loaded n008-2018-08-27-11-48-51-0400__CAM_FRONT__1535385101362404.jpg (300, 300, 3)\n",
            "> loaded n008-2018-08-27-11-48-51-0400__CAM_FRONT__1535385098862404.jpg (300, 300, 3)\n",
            "> loaded n008-2018-08-27-11-48-51-0400__CAM_FRONT__1535385100362404.jpg (300, 300, 3)\n",
            "> loaded n008-2018-08-27-11-48-51-0400__CAM_FRONT__1535385106912404.jpg (300, 300, 3)\n",
            "> loaded n008-2018-08-27-11-48-51-0400__CAM_FRONT__1535385105912404.jpg (300, 300, 3)\n",
            "> loaded n008-2018-08-27-11-48-51-0400__CAM_FRONT__1535385110412404.jpg (300, 300, 3)\n",
            "> loaded n008-2018-08-27-11-48-51-0400__CAM_FRONT__1535385111912404.jpg (300, 300, 3)\n",
            "> loaded n008-2018-08-27-11-48-51-0400__CAM_FRONT__1535385106412404.jpg (300, 300, 3)\n",
            "> loaded n008-2018-08-27-11-48-51-0400__CAM_FRONT__1535385111412404.jpg (300, 300, 3)\n",
            "> loaded n008-2018-08-27-11-48-51-0400__CAM_FRONT__1535385107412404.jpg (300, 300, 3)\n",
            "> loaded n008-2018-08-27-11-48-51-0400__CAM_FRONT__1535385104912404.jpg (300, 300, 3)\n",
            "> loaded n008-2018-08-27-11-48-51-0400__CAM_FRONT__1535385109862404.jpg (300, 300, 3)\n",
            "> loaded n008-2018-08-27-11-48-51-0400__CAM_FRONT__1535385107912404.jpg (300, 300, 3)\n",
            "> loaded n008-2018-08-27-11-48-51-0400__CAM_FRONT__1535385108412412.jpg (300, 300, 3)\n",
            "> loaded n008-2018-08-27-11-48-51-0400__CAM_FRONT__1535385105412404.jpg (300, 300, 3)\n",
            "> loaded n008-2018-08-27-11-48-51-0400__CAM_FRONT__1535385108912404.jpg (300, 300, 3)\n",
            "> loaded n008-2018-08-27-11-48-51-0400__CAM_FRONT__1535385110912404.jpg (300, 300, 3)\n",
            "> loaded n008-2018-08-27-11-48-51-0400__CAM_FRONT__1535385109362404.jpg (300, 300, 3)\n",
            "> loaded n008-2018-08-28-16-43-51-0400__CAM_FRONT__1535489297512404.jpg (300, 300, 3)\n",
            "> loaded n008-2018-08-28-16-43-51-0400__CAM_FRONT__1535489301012404.jpg (300, 300, 3)\n",
            "> loaded n008-2018-08-28-16-43-51-0400__CAM_FRONT__1535489297012404.jpg (300, 300, 3)\n",
            "> loaded n008-2018-08-28-16-43-51-0400__CAM_FRONT__1535489298012404.jpg (300, 300, 3)\n",
            "> loaded n008-2018-08-28-16-43-51-0400__CAM_FRONT__1535489302512404.jpg (300, 300, 3)\n",
            "> loaded n008-2018-08-28-16-43-51-0400__CAM_FRONT__1535489302012404.jpg (300, 300, 3)\n",
            "> loaded n008-2018-08-28-16-43-51-0400__CAM_FRONT__1535489300012404.jpg (300, 300, 3)\n",
            "> loaded n008-2018-08-28-16-43-51-0400__CAM_FRONT__1535489303012421.jpg (300, 300, 3)\n",
            "> loaded n008-2018-08-28-16-43-51-0400__CAM_FRONT__1535489298512404.jpg (300, 300, 3)\n",
            "> loaded n008-2018-08-28-16-43-51-0400__CAM_FRONT__1535489296012404.jpg (300, 300, 3)\n",
            "> loaded n008-2018-08-28-16-43-51-0400__CAM_FRONT__1535489296512409.jpg (300, 300, 3)\n",
            "> loaded n008-2018-08-28-16-43-51-0400__CAM_FRONT__1535489301512404.jpg (300, 300, 3)\n",
            "> loaded n008-2018-08-28-16-43-51-0400__CAM_FRONT__1535489299012404.jpg (300, 300, 3)\n",
            "> loaded n008-2018-08-28-16-43-51-0400__CAM_FRONT__1535489299512404.jpg (300, 300, 3)\n",
            "> loaded n008-2018-08-28-16-43-51-0400__CAM_FRONT__1535489300512404.jpg (300, 300, 3)\n",
            "> loaded n008-2018-08-28-16-43-51-0400__CAM_FRONT__1535489304912404.jpg (300, 300, 3)\n",
            "> loaded n008-2018-08-28-16-43-51-0400__CAM_FRONT__1535489303912404.jpg (300, 300, 3)\n",
            "> loaded n008-2018-08-28-16-43-51-0400__CAM_FRONT__1535489306912404.jpg (300, 300, 3)\n",
            "> loaded n008-2018-08-28-16-43-51-0400__CAM_FRONT__1535489307412404.jpg (300, 300, 3)\n",
            "> loaded n008-2018-08-28-16-43-51-0400__CAM_FRONT__1535489306412404.jpg (300, 300, 3)\n",
            "> loaded n008-2018-08-28-16-43-51-0400__CAM_FRONT__1535489307912404.jpg (300, 300, 3)\n",
            "> loaded n008-2018-08-28-16-43-51-0400__CAM_FRONT__1535489308362404.jpg (300, 300, 3)\n",
            "> loaded n008-2018-08-28-16-43-51-0400__CAM_FRONT__1535489309862404.jpg (300, 300, 3)\n",
            "> loaded n008-2018-08-28-16-43-51-0400__CAM_FRONT__1535489305912404.jpg (300, 300, 3)\n",
            "> loaded n008-2018-08-28-16-43-51-0400__CAM_FRONT__1535489303412404.jpg (300, 300, 3)\n",
            "> loaded n008-2018-08-28-16-43-51-0400__CAM_FRONT__1535489310912404.jpg (300, 300, 3)\n",
            "> loaded n008-2018-08-28-16-43-51-0400__CAM_FRONT__1535489310362404.jpg (300, 300, 3)\n",
            "> loaded n008-2018-08-28-16-43-51-0400__CAM_FRONT__1535489304412404.jpg (300, 300, 3)\n",
            "> loaded n008-2018-08-28-16-43-51-0400__CAM_FRONT__1535489305412404.jpg (300, 300, 3)\n",
            "> loaded n008-2018-08-28-16-43-51-0400__CAM_FRONT__1535489309362404.jpg (300, 300, 3)\n",
            "> loaded n008-2018-08-28-16-43-51-0400__CAM_FRONT__1535489308862404.jpg (300, 300, 3)\n",
            "> loaded n008-2018-08-30-15-16-55-0400__CAM_FRONT__1535657110612404.jpg (300, 300, 3)\n",
            "> loaded n008-2018-08-30-15-16-55-0400__CAM_FRONT__1535657108262404.jpg (300, 300, 3)\n",
            "> loaded n008-2018-08-30-15-16-55-0400__CAM_FRONT__1535657109262404.jpg (300, 300, 3)\n",
            "> loaded n008-2018-08-28-16-43-51-0400__CAM_FRONT__1535489313362404.jpg (300, 300, 3)\n",
            "> loaded n008-2018-08-28-16-43-51-0400__CAM_FRONT__1535489311362404.jpg (300, 300, 3)\n",
            "> loaded n008-2018-08-30-15-16-55-0400__CAM_FRONT__1535657109762404.jpg (300, 300, 3)\n",
            "> loaded n008-2018-08-28-16-43-51-0400__CAM_FRONT__1535489315912404.jpg (300, 300, 3)\n",
            "> loaded n008-2018-08-30-15-16-55-0400__CAM_FRONT__1535657108762404.jpg (300, 300, 3)\n",
            "> loaded n008-2018-08-28-16-43-51-0400__CAM_FRONT__1535489312862404.jpg (300, 300, 3)\n",
            "> loaded n008-2018-08-28-16-43-51-0400__CAM_FRONT__1535489312362404.jpg (300, 300, 3)\n",
            "> loaded n008-2018-08-28-16-43-51-0400__CAM_FRONT__1535489314362404.jpg (300, 300, 3)\n",
            "> loaded n008-2018-08-28-16-43-51-0400__CAM_FRONT__1535489313862404.jpg (300, 300, 3)\n",
            "> loaded n008-2018-08-28-16-43-51-0400__CAM_FRONT__1535489315412404.jpg (300, 300, 3)\n",
            "> loaded n008-2018-08-30-15-16-55-0400__CAM_FRONT__1535657110162404.jpg (300, 300, 3)\n",
            "> loaded n008-2018-08-28-16-43-51-0400__CAM_FRONT__1535489314862404.jpg (300, 300, 3)\n",
            "> loaded n008-2018-08-28-16-43-51-0400__CAM_FRONT__1535489311862404.jpg (300, 300, 3)\n",
            "> loaded n008-2018-08-30-15-16-55-0400__CAM_FRONT__1535657117112404.jpg (300, 300, 3)\n",
            "> loaded n008-2018-08-30-15-16-55-0400__CAM_FRONT__1535657112612404.jpg (300, 300, 3)\n",
            "> loaded n008-2018-08-30-15-16-55-0400__CAM_FRONT__1535657111612404.jpg (300, 300, 3)\n",
            "> loaded n008-2018-08-30-15-16-55-0400__CAM_FRONT__1535657114112404.jpg (300, 300, 3)\n",
            "> loaded n008-2018-08-30-15-16-55-0400__CAM_FRONT__1535657112112404.jpg (300, 300, 3)\n",
            "> loaded n008-2018-08-30-15-16-55-0400__CAM_FRONT__1535657111112404.jpg (300, 300, 3)\n",
            "> loaded n008-2018-08-30-15-16-55-0400__CAM_FRONT__1535657118112404.jpg (300, 300, 3)\n",
            "> loaded n008-2018-08-30-15-16-55-0400__CAM_FRONT__1535657114612404.jpg (300, 300, 3)\n",
            "> loaded n008-2018-08-30-15-16-55-0400__CAM_FRONT__1535657116612404.jpg (300, 300, 3)\n",
            "> loaded n008-2018-08-30-15-16-55-0400__CAM_FRONT__1535657115112404.jpg (300, 300, 3)\n",
            "> loaded n008-2018-08-30-15-16-55-0400__CAM_FRONT__1535657113112404.jpg (300, 300, 3)\n",
            "> loaded n008-2018-08-30-15-16-55-0400__CAM_FRONT__1535657115612404.jpg (300, 300, 3)\n",
            "> loaded n008-2018-08-30-15-16-55-0400__CAM_FRONT__1535657117612404.jpg (300, 300, 3)\n",
            "> loaded n008-2018-08-30-15-16-55-0400__CAM_FRONT__1535657113612404.jpg (300, 300, 3)\n",
            "> loaded n008-2018-08-30-15-16-55-0400__CAM_FRONT__1535657116112404.jpg (300, 300, 3)\n",
            "> loaded n008-2018-08-30-15-16-55-0400__CAM_FRONT__1535657123612404.jpg (300, 300, 3)\n",
            "> loaded n008-2018-08-30-15-16-55-0400__CAM_FRONT__1535657119112404.jpg (300, 300, 3)\n",
            "> loaded n008-2018-08-30-15-16-55-0400__CAM_FRONT__1535657120112404.jpg (300, 300, 3)\n",
            "> loaded n008-2018-08-30-15-16-55-0400__CAM_FRONT__1535657125612404.jpg (300, 300, 3)\n",
            "> loaded n008-2018-08-30-15-16-55-0400__CAM_FRONT__1535657123112404.jpg (300, 300, 3)\n",
            "> loaded n008-2018-08-30-15-16-55-0400__CAM_FRONT__1535657125112404.jpg (300, 300, 3)\n",
            "> loaded n008-2018-08-30-15-16-55-0400__CAM_FRONT__1535657122612404.jpg (300, 300, 3)\n",
            "> loaded n008-2018-08-30-15-16-55-0400__CAM_FRONT__1535657122112404.jpg (300, 300, 3)\n",
            "> loaded n008-2018-08-30-15-16-55-0400__CAM_FRONT__1535657119612404.jpg (300, 300, 3)\n",
            "> loaded n008-2018-08-30-15-16-55-0400__CAM_FRONT__1535657121612404.jpg (300, 300, 3)\n",
            "> loaded n008-2018-08-30-15-16-55-0400__CAM_FRONT__1535657124112404.jpg (300, 300, 3)\n",
            "> loaded n008-2018-08-30-15-16-55-0400__CAM_FRONT__1535657124612404.jpg (300, 300, 3)\n",
            "> loaded n008-2018-08-30-15-16-55-0400__CAM_FRONT__1535657121112404.jpg (300, 300, 3)\n",
            "> loaded n008-2018-08-30-15-16-55-0400__CAM_FRONT__1535657120612404.jpg (300, 300, 3)\n",
            "> loaded n008-2018-08-30-15-16-55-0400__CAM_FRONT__1535657118612404.jpg (300, 300, 3)\n",
            "> loaded n008-2018-08-30-15-16-55-0400__CAM_FRONT__1535657127112404.jpg (300, 300, 3)\n",
            "> loaded n015-2018-07-24-11-22-45+0800__CAM_FRONT__1532402932162460.jpg (300, 300, 3)\n",
            "> loaded n015-2018-07-24-11-22-45+0800__CAM_FRONT__1532402927612460.jpg (300, 300, 3)\n",
            "> loaded n008-2018-08-30-15-16-55-0400__CAM_FRONT__1535657127612404.jpg (300, 300, 3)\n",
            "> loaded n008-2018-08-30-15-16-55-0400__CAM_FRONT__1535657126112404.jpg (300, 300, 3)\n",
            "> loaded n015-2018-07-24-11-22-45+0800__CAM_FRONT__1532402931662460.jpg (300, 300, 3)\n",
            "> loaded n015-2018-07-24-11-22-45+0800__CAM_FRONT__1532402928662460.jpg (300, 300, 3)\n",
            "> loaded n008-2018-08-30-15-16-55-0400__CAM_FRONT__1535657128112404.jpg (300, 300, 3)\n",
            "> loaded n008-2018-08-30-15-16-55-0400__CAM_FRONT__1535657126612404.jpg (300, 300, 3)\n",
            "> loaded n015-2018-07-24-11-22-45+0800__CAM_FRONT__1532402930112460.jpg (300, 300, 3)\n",
            "> loaded n015-2018-07-24-11-22-45+0800__CAM_FRONT__1532402928112460.jpg (300, 300, 3)\n",
            "> loaded n015-2018-07-24-11-22-45+0800__CAM_FRONT__1532402931162460.jpg (300, 300, 3)\n",
            "> loaded n015-2018-07-24-11-22-45+0800__CAM_FRONT__1532402929162460.jpg (300, 300, 3)\n",
            "> loaded n015-2018-07-24-11-22-45+0800__CAM_FRONT__1532402930612460.jpg (300, 300, 3)\n",
            "> loaded n015-2018-07-24-11-22-45+0800__CAM_FRONT__1532402929662460.jpg (300, 300, 3)\n",
            "> loaded n015-2018-07-24-11-22-45+0800__CAM_FRONT__1532402934112460.jpg (300, 300, 3)\n",
            "> loaded n015-2018-07-24-11-22-45+0800__CAM_FRONT__1532402933112460.jpg (300, 300, 3)\n",
            "> loaded n015-2018-07-24-11-22-45+0800__CAM_FRONT__1532402934662484.jpg (300, 300, 3)\n",
            "> loaded n015-2018-07-24-11-22-45+0800__CAM_FRONT__1532402935662460.jpg (300, 300, 3)\n",
            "> loaded n015-2018-07-24-11-22-45+0800__CAM_FRONT__1532402937162460.jpg (300, 300, 3)\n",
            "> loaded n015-2018-07-24-11-22-45+0800__CAM_FRONT__1532402936662460.jpg (300, 300, 3)\n",
            "> loaded n015-2018-07-24-11-22-45+0800__CAM_FRONT__1532402935162463.jpg (300, 300, 3)\n",
            "> loaded n015-2018-07-24-11-22-45+0800__CAM_FRONT__1532402932612460.jpg (300, 300, 3)\n",
            "> loaded n015-2018-07-24-11-22-45+0800__CAM_FRONT__1532402936162460.jpg (300, 300, 3)\n",
            "> loaded n015-2018-07-24-11-22-45+0800__CAM_FRONT__1532402938612460.jpg (300, 300, 3)\n",
            "> loaded n015-2018-07-24-11-22-45+0800__CAM_FRONT__1532402939662460.jpg (300, 300, 3)\n",
            "> loaded n015-2018-07-24-11-22-45+0800__CAM_FRONT__1532402938162460.jpg (300, 300, 3)\n",
            "> loaded n015-2018-07-24-11-22-45+0800__CAM_FRONT__1532402933612460.jpg (300, 300, 3)\n",
            "> loaded n015-2018-07-24-11-22-45+0800__CAM_FRONT__1532402937662460.jpg (300, 300, 3)\n",
            "> loaded n015-2018-07-24-11-22-45+0800__CAM_FRONT__1532402939112460.jpg (300, 300, 3)\n",
            "> loaded n015-2018-07-24-11-22-45+0800__CAM_FRONT__1532402942662460.jpg (300, 300, 3)\n",
            "> loaded n015-2018-10-02-10-50-40+0800__CAM_FRONT__1538448744412460.jpg (300, 300, 3)\n",
            "> loaded n015-2018-07-24-11-22-45+0800__CAM_FRONT__1532402946262460.jpg (300, 300, 3)\n",
            "> loaded n015-2018-07-24-11-22-45+0800__CAM_FRONT__1532402943162460.jpg (300, 300, 3)\n",
            "> loaded n015-2018-07-24-11-22-45+0800__CAM_FRONT__1532402940162460.jpg (300, 300, 3)\n",
            "> loaded n015-2018-07-24-11-22-45+0800__CAM_FRONT__1532402944162460.jpg (300, 300, 3)\n",
            "> loaded n015-2018-07-24-11-22-45+0800__CAM_FRONT__1532402940762460.jpg (300, 300, 3)\n",
            "> loaded n015-2018-07-24-11-22-45+0800__CAM_FRONT__1532402941262460.jpg (300, 300, 3)\n",
            "> loaded n015-2018-07-24-11-22-45+0800__CAM_FRONT__1532402945162460.jpg (300, 300, 3)\n",
            "> loaded n015-2018-07-24-11-22-45+0800__CAM_FRONT__1532402945662460.jpg (300, 300, 3)\n",
            "> loaded n015-2018-07-24-11-22-45+0800__CAM_FRONT__1532402946762460.jpg (300, 300, 3)\n",
            "> loaded n015-2018-07-24-11-22-45+0800__CAM_FRONT__1532402941762460.jpg (300, 300, 3)\n",
            "> loaded n015-2018-07-24-11-22-45+0800__CAM_FRONT__1532402942162460.jpg (300, 300, 3)\n",
            "> loaded n015-2018-07-24-11-22-45+0800__CAM_FRONT__1532402943662460.jpg (300, 300, 3)\n",
            "> loaded n015-2018-07-24-11-22-45+0800__CAM_FRONT__1532402944662460.jpg (300, 300, 3)\n",
            "> loaded n015-2018-10-02-10-50-40+0800__CAM_FRONT__1538448745512460.jpg (300, 300, 3)\n",
            "> loaded n015-2018-10-02-10-50-40+0800__CAM_FRONT__1538448749012460.jpg (300, 300, 3)\n",
            "> loaded n015-2018-10-02-10-50-40+0800__CAM_FRONT__1538448750012460.jpg (300, 300, 3)\n",
            "> loaded n015-2018-10-02-10-50-40+0800__CAM_FRONT__1538448747012460.jpg (300, 300, 3)\n",
            "> loaded n015-2018-10-02-10-50-40+0800__CAM_FRONT__1538448745012460.jpg (300, 300, 3)\n",
            "> loaded n015-2018-10-02-10-50-40+0800__CAM_FRONT__1538448746512460.jpg (300, 300, 3)\n",
            "> loaded n015-2018-10-02-10-50-40+0800__CAM_FRONT__1538448749512460.jpg (300, 300, 3)\n",
            "> loaded n015-2018-10-02-10-50-40+0800__CAM_FRONT__1538448748512460.jpg (300, 300, 3)\n",
            "> loaded n015-2018-10-02-10-50-40+0800__CAM_FRONT__1538448746012460.jpg (300, 300, 3)\n",
            "> loaded n015-2018-10-02-10-50-40+0800__CAM_FRONT__1538448748012460.jpg (300, 300, 3)\n",
            "> loaded n015-2018-10-02-10-50-40+0800__CAM_FRONT__1538448747512460.jpg (300, 300, 3)\n",
            "> loaded n015-2018-10-02-10-50-40+0800__CAM_FRONT__1538448753512460.jpg (300, 300, 3)\n",
            "> loaded n015-2018-10-02-10-50-40+0800__CAM_FRONT__1538448753012460.jpg (300, 300, 3)\n",
            "> loaded n015-2018-10-02-10-50-40+0800__CAM_FRONT__1538448752512460.jpg (300, 300, 3)\n",
            "> loaded n015-2018-10-02-10-50-40+0800__CAM_FRONT__1538448755512460.jpg (300, 300, 3)\n",
            "> loaded n015-2018-10-02-10-50-40+0800__CAM_FRONT__1538448751012460.jpg (300, 300, 3)\n",
            "> loaded n015-2018-10-02-10-50-40+0800__CAM_FRONT__1538448751512460.jpg (300, 300, 3)\n",
            "> loaded n015-2018-10-02-10-50-40+0800__CAM_FRONT__1538448755012460.jpg (300, 300, 3)\n",
            "> loaded n015-2018-10-02-10-50-40+0800__CAM_FRONT__1538448754512460.jpg (300, 300, 3)\n",
            "> loaded n015-2018-10-02-10-50-40+0800__CAM_FRONT__1538448750512460.jpg (300, 300, 3)\n",
            "> loaded n015-2018-10-02-10-50-40+0800__CAM_FRONT__1538448754012460.jpg (300, 300, 3)\n",
            "> loaded n015-2018-10-02-10-50-40+0800__CAM_FRONT__1538448756012460.jpg (300, 300, 3)\n",
            "> loaded n015-2018-10-02-10-50-40+0800__CAM_FRONT__1538448752012460.jpg (300, 300, 3)\n",
            "> loaded n015-2018-10-02-10-50-40+0800__CAM_FRONT__1538448759012460.jpg (300, 300, 3)\n",
            "> loaded n015-2018-10-02-10-50-40+0800__CAM_FRONT__1538448760012460.jpg (300, 300, 3)\n",
            "> loaded n015-2018-10-02-10-50-40+0800__CAM_FRONT__1538448760512460.jpg (300, 300, 3)\n",
            "> loaded n015-2018-10-02-10-50-40+0800__CAM_FRONT__1538448756512460.jpg (300, 300, 3)\n",
            "> loaded n015-2018-10-02-10-50-40+0800__CAM_FRONT__1538448757012460.jpg (300, 300, 3)\n",
            "> loaded n015-2018-10-02-10-50-40+0800__CAM_FRONT__1538448761012460.jpg (300, 300, 3)\n",
            "> loaded n015-2018-10-02-10-50-40+0800__CAM_FRONT__1538448759512460.jpg (300, 300, 3)\n",
            "> loaded n015-2018-10-02-10-50-40+0800__CAM_FRONT__1538448762512460.jpg (300, 300, 3)\n",
            "> loaded n015-2018-10-02-10-50-40+0800__CAM_FRONT__1538448762012460.jpg (300, 300, 3)\n",
            "> loaded n015-2018-10-02-10-50-40+0800__CAM_FRONT__1538448757512460.jpg (300, 300, 3)\n",
            "> loaded n015-2018-10-02-10-50-40+0800__CAM_FRONT__1538448758512460.jpg (300, 300, 3)\n",
            "> loaded n015-2018-10-02-10-50-40+0800__CAM_FRONT__1538448758012460.jpg (300, 300, 3)\n",
            "> loaded n015-2018-10-02-10-50-40+0800__CAM_FRONT__1538448761512460.jpg (300, 300, 3)\n",
            "> loaded n015-2018-10-08-15-36-50+0800__CAM_FRONT__1538984234512460.jpg (300, 300, 3)\n",
            "> loaded n015-2018-10-08-15-36-50+0800__CAM_FRONT__1538984236412460.jpg (300, 300, 3)\n",
            "> loaded n015-2018-10-02-10-50-40+0800__CAM_FRONT__1538448764012460.jpg (300, 300, 3)\n",
            "> loaded n015-2018-10-08-15-36-50+0800__CAM_FRONT__1538984235412460.jpg (300, 300, 3)\n",
            "> loaded n015-2018-10-08-15-36-50+0800__CAM_FRONT__1538984235912460.jpg (300, 300, 3)\n",
            "> loaded n015-2018-10-08-15-36-50+0800__CAM_FRONT__1538984236912460.jpg (300, 300, 3)\n",
            "> loaded n015-2018-10-08-15-36-50+0800__CAM_FRONT__1538984237912460.jpg (300, 300, 3)\n",
            "> loaded n015-2018-10-08-15-36-50+0800__CAM_FRONT__1538984233512470.jpg (300, 300, 3)\n",
            "> loaded n015-2018-10-08-15-36-50+0800__CAM_FRONT__1538984234912460.jpg (300, 300, 3)\n",
            "> loaded n015-2018-10-08-15-36-50+0800__CAM_FRONT__1538984237412460.jpg (300, 300, 3)\n",
            "> loaded n015-2018-10-02-10-50-40+0800__CAM_FRONT__1538448763512460.jpg (300, 300, 3)\n",
            "> loaded n015-2018-10-02-10-50-40+0800__CAM_FRONT__1538448763012460.jpg (300, 300, 3)\n",
            "> loaded n015-2018-10-08-15-36-50+0800__CAM_FRONT__1538984238412460.jpg (300, 300, 3)\n",
            "> loaded n015-2018-10-08-15-36-50+0800__CAM_FRONT__1538984238912460.jpg (300, 300, 3)\n",
            "> loaded n015-2018-10-08-15-36-50+0800__CAM_FRONT__1538984234012472.jpg (300, 300, 3)\n",
            "> loaded n015-2018-10-08-15-36-50+0800__CAM_FRONT__1538984242912460.jpg (300, 300, 3)\n",
            "> loaded n015-2018-10-08-15-36-50+0800__CAM_FRONT__1538984241412460.jpg (300, 300, 3)\n",
            "> loaded n015-2018-10-08-15-36-50+0800__CAM_FRONT__1538984243412460.jpg (300, 300, 3)\n",
            "> loaded n015-2018-10-08-15-36-50+0800__CAM_FRONT__1538984243912460.jpg (300, 300, 3)\n",
            "> loaded n015-2018-10-08-15-36-50+0800__CAM_FRONT__1538984240412460.jpg (300, 300, 3)\n",
            "> loaded n015-2018-10-08-15-36-50+0800__CAM_FRONT__1538984245912460.jpg (300, 300, 3)\n",
            "> loaded n015-2018-10-08-15-36-50+0800__CAM_FRONT__1538984241912460.jpg (300, 300, 3)\n",
            "> loaded n015-2018-10-08-15-36-50+0800__CAM_FRONT__1538984245412460.jpg (300, 300, 3)\n",
            "> loaded n015-2018-10-08-15-36-50+0800__CAM_FRONT__1538984242412460.jpg (300, 300, 3)\n",
            "> loaded n015-2018-10-08-15-36-50+0800__CAM_FRONT__1538984240912467.jpg (300, 300, 3)\n",
            "> loaded n015-2018-10-08-15-36-50+0800__CAM_FRONT__1538984244912460.jpg (300, 300, 3)\n",
            "> loaded n015-2018-10-08-15-36-50+0800__CAM_FRONT__1538984244412460.jpg (300, 300, 3)\n",
            "> loaded n015-2018-10-08-15-36-50+0800__CAM_FRONT__1538984239912460.jpg (300, 300, 3)\n",
            "> loaded n015-2018-10-08-15-36-50+0800__CAM_FRONT__1538984239412460.jpg (300, 300, 3)\n",
            "> loaded n015-2018-10-08-15-36-50+0800__CAM_FRONT__1538984247412460.jpg (300, 300, 3)\n",
            "> loaded n015-2018-10-08-15-36-50+0800__CAM_FRONT__1538984252412460.jpg (300, 300, 3)\n",
            "> loaded n015-2018-10-08-15-36-50+0800__CAM_FRONT__1538984247912460.jpg (300, 300, 3)\n",
            "> loaded n015-2018-10-08-15-36-50+0800__CAM_FRONT__1538984251912460.jpg (300, 300, 3)\n",
            "> loaded n015-2018-10-08-15-36-50+0800__CAM_FRONT__1538984248912460.jpg (300, 300, 3)\n",
            "> loaded n015-2018-10-08-15-36-50+0800__CAM_FRONT__1538984253412460.jpg (300, 300, 3)\n",
            "> loaded n015-2018-10-08-15-36-50+0800__CAM_FRONT__1538984250412460.jpg (300, 300, 3)\n",
            "> loaded n015-2018-10-08-15-36-50+0800__CAM_FRONT__1538984246912460.jpg (300, 300, 3)\n",
            "> loaded n015-2018-10-08-15-36-50+0800__CAM_FRONT__1538984252912460.jpg (300, 300, 3)\n",
            "> loaded n015-2018-10-08-15-36-50+0800__CAM_FRONT__1538984246412460.jpg (300, 300, 3)\n",
            "> loaded n015-2018-10-08-15-36-50+0800__CAM_FRONT__1538984251412460.jpg (300, 300, 3)\n",
            "> loaded n015-2018-10-08-15-36-50+0800__CAM_FRONT__1538984249412460.jpg (300, 300, 3)\n",
            "> loaded n015-2018-10-08-15-36-50+0800__CAM_FRONT__1538984250912460.jpg (300, 300, 3)\n",
            "> loaded n015-2018-10-08-15-36-50+0800__CAM_FRONT__1538984249912460.jpg (300, 300, 3)\n",
            "> loaded n015-2018-10-08-15-36-50+0800__CAM_FRONT__1538984248412460.jpg (300, 300, 3)\n",
            "> loaded n015-2018-11-21-19-38-26+0800__CAM_FRONT__1542800369412460.jpg (300, 300, 3)\n",
            "> loaded n015-2018-11-21-19-38-26+0800__CAM_FRONT__1542800368912460.jpg (300, 300, 3)\n",
            "> loaded n015-2018-11-21-19-38-26+0800__CAM_FRONT__1542800373412460.jpg (300, 300, 3)\n",
            "> loaded n015-2018-11-21-19-38-26+0800__CAM_FRONT__1542800370912460.jpg (300, 300, 3)\n",
            "> loaded n015-2018-11-21-19-38-26+0800__CAM_FRONT__1542800367912460.jpg (300, 300, 3)\n",
            "> loaded n015-2018-11-21-19-38-26+0800__CAM_FRONT__1542800371912471.jpg (300, 300, 3)\n",
            "> loaded n015-2018-11-21-19-38-26+0800__CAM_FRONT__1542800372362460.jpg (300, 300, 3)\n",
            "> loaded n015-2018-11-21-19-38-26+0800__CAM_FRONT__1542800370412460.jpg (300, 300, 3)\n",
            "> loaded n015-2018-11-21-19-38-26+0800__CAM_FRONT__1542800372912460.jpg (300, 300, 3)\n",
            "> loaded n015-2018-11-21-19-38-26+0800__CAM_FRONT__1542800368412460.jpg (300, 300, 3)\n",
            "> loaded n015-2018-11-21-19-38-26+0800__CAM_FRONT__1542800369912460.jpg (300, 300, 3)\n",
            "> loaded n015-2018-11-21-19-38-26+0800__CAM_FRONT__1542800371412460.jpg (300, 300, 3)\n",
            "> loaded n015-2018-11-21-19-38-26+0800__CAM_FRONT__1542800377862460.jpg (300, 300, 3)\n",
            "> loaded n015-2018-11-21-19-38-26+0800__CAM_FRONT__1542800373912460.jpg (300, 300, 3)\n",
            "> loaded n015-2018-11-21-19-38-26+0800__CAM_FRONT__1542800376412496.jpg (300, 300, 3)\n",
            "> loaded n015-2018-11-21-19-38-26+0800__CAM_FRONT__1542800378862460.jpg (300, 300, 3)\n",
            "> loaded n015-2018-11-21-19-38-26+0800__CAM_FRONT__1542800374912460.jpg (300, 300, 3)\n",
            "> loaded n015-2018-11-21-19-38-26+0800__CAM_FRONT__1542800378362460.jpg (300, 300, 3)\n",
            "> loaded n015-2018-11-21-19-38-26+0800__CAM_FRONT__1542800375412460.jpg (300, 300, 3)\n",
            "> loaded n015-2018-11-21-19-38-26+0800__CAM_FRONT__1542800374412460.jpg (300, 300, 3)\n",
            "> loaded n015-2018-11-21-19-38-26+0800__CAM_FRONT__1542800379862460.jpg (300, 300, 3)\n",
            "> loaded n015-2018-11-21-19-38-26+0800__CAM_FRONT__1542800376912460.jpg (300, 300, 3)\n",
            "> loaded n015-2018-11-21-19-38-26+0800__CAM_FRONT__1542800375912460.jpg (300, 300, 3)\n",
            "> loaded n015-2018-11-21-19-38-26+0800__CAM_FRONT__1542800377412460.jpg (300, 300, 3)\n",
            "> loaded n015-2018-11-21-19-38-26+0800__CAM_FRONT__1542800379362460.jpg (300, 300, 3)\n",
            "> loaded n015-2018-11-21-19-38-26+0800__CAM_FRONT__1542800380912460.jpg (300, 300, 3)\n",
            "> loaded n015-2018-11-21-19-38-26+0800__CAM_FRONT__1542800383862460.jpg (300, 300, 3)\n",
            "> loaded n015-2018-11-21-19-38-26+0800__CAM_FRONT__1542800380362460.jpg (300, 300, 3)\n",
            "> loaded n015-2018-11-21-19-38-26+0800__CAM_FRONT__1542800381862460.jpg (300, 300, 3)\n",
            "> loaded n015-2018-11-21-19-38-26+0800__CAM_FRONT__1542800384362460.jpg (300, 300, 3)\n",
            "> loaded n015-2018-11-21-19-38-26+0800__CAM_FRONT__1542800382862460.jpg (300, 300, 3)\n",
            "> loaded n015-2018-11-21-19-38-26+0800__CAM_FRONT__1542800382362460.jpg (300, 300, 3)\n",
            "> loaded n015-2018-11-21-19-38-26+0800__CAM_FRONT__1542800383362460.jpg (300, 300, 3)\n",
            "> loaded n015-2018-11-21-19-38-26+0800__CAM_FRONT__1542800381412460.jpg (300, 300, 3)\n",
            "> loaded n015-2018-11-21-19-38-26+0800__CAM_FRONT__1542800387862460.jpg (300, 300, 3)\n",
            "> loaded n015-2018-11-21-19-38-26+0800__CAM_FRONT__1542800385912460.jpg (300, 300, 3)\n",
            "> loaded n015-2018-11-21-19-38-26+0800__CAM_FRONT__1542800849912460.jpg (300, 300, 3)\n",
            "> loaded n015-2018-11-21-19-38-26+0800__CAM_FRONT__1542800386362460.jpg (300, 300, 3)\n",
            "> loaded n015-2018-11-21-19-38-26+0800__CAM_FRONT__1542800848412460.jpg (300, 300, 3)\n",
            "> loaded n015-2018-11-21-19-38-26+0800__CAM_FRONT__1542800386862460.jpg (300, 300, 3)\n",
            "> loaded n015-2018-11-21-19-38-26+0800__CAM_FRONT__1542800387362460.jpg (300, 300, 3)\n",
            "> loaded n015-2018-11-21-19-38-26+0800__CAM_FRONT__1542800384912460.jpg (300, 300, 3)\n",
            "> loaded n015-2018-11-21-19-38-26+0800__CAM_FRONT__1542800849412460.jpg (300, 300, 3)\n",
            "> loaded n015-2018-11-21-19-38-26+0800__CAM_FRONT__1542800385412460.jpg (300, 300, 3)\n",
            "> loaded n015-2018-11-21-19-38-26+0800__CAM_FRONT__1542800847912460.jpg (300, 300, 3)\n",
            "> loaded n015-2018-11-21-19-38-26+0800__CAM_FRONT__1542800848912460.jpg (300, 300, 3)\n",
            "> loaded n015-2018-11-21-19-38-26+0800__CAM_FRONT__1542800854412460.jpg (300, 300, 3)\n",
            "> loaded n015-2018-11-21-19-38-26+0800__CAM_FRONT__1542800850912460.jpg (300, 300, 3)\n",
            "> loaded n015-2018-11-21-19-38-26+0800__CAM_FRONT__1542800853912460.jpg (300, 300, 3)\n",
            "> loaded n015-2018-11-21-19-38-26+0800__CAM_FRONT__1542800850412460.jpg (300, 300, 3)\n",
            "> loaded n015-2018-11-21-19-38-26+0800__CAM_FRONT__1542800852912460.jpg (300, 300, 3)\n",
            "> loaded n015-2018-11-21-19-38-26+0800__CAM_FRONT__1542800851912460.jpg (300, 300, 3)\n",
            "> loaded n015-2018-11-21-19-38-26+0800__CAM_FRONT__1542800853412460.jpg (300, 300, 3)\n",
            "> loaded n015-2018-11-21-19-38-26+0800__CAM_FRONT__1542800851412460.jpg (300, 300, 3)\n",
            "> loaded n015-2018-11-21-19-38-26+0800__CAM_FRONT__1542800852412460.jpg (300, 300, 3)\n",
            "> loaded n015-2018-11-21-19-38-26+0800__CAM_FRONT__1542800855412460.jpg (300, 300, 3)\n",
            "> loaded n015-2018-11-21-19-38-26+0800__CAM_FRONT__1542800855912460.jpg (300, 300, 3)\n",
            "> loaded n015-2018-11-21-19-38-26+0800__CAM_FRONT__1542800856912460.jpg (300, 300, 3)\n",
            "> loaded n015-2018-11-21-19-38-26+0800__CAM_FRONT__1542800858362460.jpg (300, 300, 3)\n",
            "> loaded n015-2018-11-21-19-38-26+0800__CAM_FRONT__1542800854912460.jpg (300, 300, 3)\n",
            "> loaded n015-2018-11-21-19-38-26+0800__CAM_FRONT__1542800857412460.jpg (300, 300, 3)\n",
            "> loaded n015-2018-11-21-19-38-26+0800__CAM_FRONT__1542800858862460.jpg (300, 300, 3)\n",
            "> loaded n015-2018-11-21-19-38-26+0800__CAM_FRONT__1542800857862460.jpg (300, 300, 3)\n",
            "> loaded n015-2018-11-21-19-38-26+0800__CAM_FRONT__1542800859412460.jpg (300, 300, 3)\n",
            "> loaded n015-2018-11-21-19-38-26+0800__CAM_FRONT__1542800856412460.jpg (300, 300, 3)\n",
            "> loaded n015-2018-11-21-19-38-26+0800__CAM_FRONT__1542800862412460.jpg (300, 300, 3)\n",
            "> loaded n015-2018-11-21-19-38-26+0800__CAM_FRONT__1542800859912460.jpg (300, 300, 3)\n",
            "> loaded n015-2018-11-21-19-38-26+0800__CAM_FRONT__1542800863412460.jpg (300, 300, 3)\n",
            "> loaded n015-2018-11-21-19-38-26+0800__CAM_FRONT__1542800861412460.jpg (300, 300, 3)\n",
            "> loaded n015-2018-11-21-19-38-26+0800__CAM_FRONT__1542800861912460.jpg (300, 300, 3)\n",
            "> loaded n015-2018-11-21-19-38-26+0800__CAM_FRONT__1542800860912460.jpg (300, 300, 3)\n",
            "> loaded n015-2018-11-21-19-38-26+0800__CAM_FRONT__1542800863912460.jpg (300, 300, 3)\n",
            "> loaded n015-2018-11-21-19-38-26+0800__CAM_FRONT__1542800862912460.jpg (300, 300, 3)\n",
            "> loaded n015-2018-11-21-19-38-26+0800__CAM_FRONT__1542800860412460.jpg (300, 300, 3)\n",
            "> loaded n015-2018-11-21-19-38-26+0800__CAM_FRONT__1542800864912460.jpg (300, 300, 3)\n",
            "> loaded n015-2018-11-21-19-38-26+0800__CAM_FRONT__1542800865912460.jpg (300, 300, 3)\n",
            "> loaded n015-2018-11-21-19-38-26+0800__CAM_FRONT__1542800988412460.jpg (300, 300, 3)\n",
            "> loaded n015-2018-11-21-19-38-26+0800__CAM_FRONT__1542800864412460.jpg (300, 300, 3)\n",
            "> loaded n015-2018-11-21-19-38-26+0800__CAM_FRONT__1542800866412467.jpg (300, 300, 3)\n",
            "> loaded n015-2018-11-21-19-38-26+0800__CAM_FRONT__1542800988912460.jpg (300, 300, 3)\n",
            "> loaded n015-2018-11-21-19-38-26+0800__CAM_FRONT__1542800866912460.jpg (300, 300, 3)\n",
            "> loaded n015-2018-11-21-19-38-26+0800__CAM_FRONT__1542800867412460.jpg (300, 300, 3)\n",
            "> loaded n015-2018-11-21-19-38-26+0800__CAM_FRONT__1542800987912460.jpg (300, 300, 3)\n",
            "> loaded n015-2018-11-21-19-38-26+0800__CAM_FRONT__1542800865412815.jpg (300, 300, 3)\n",
            "> loaded n015-2018-11-21-19-38-26+0800__CAM_FRONT__1542800994362460.jpg (300, 300, 3)\n",
            "> loaded n015-2018-11-21-19-38-26+0800__CAM_FRONT__1542800994862460.jpg (300, 300, 3)\n",
            "> loaded n015-2018-11-21-19-38-26+0800__CAM_FRONT__1542800993362460.jpg (300, 300, 3)\n",
            "> loaded n015-2018-11-21-19-38-26+0800__CAM_FRONT__1542800990912460.jpg (300, 300, 3)\n",
            "> loaded n015-2018-11-21-19-38-26+0800__CAM_FRONT__1542800991912460.jpg (300, 300, 3)\n",
            "> loaded n015-2018-11-21-19-38-26+0800__CAM_FRONT__1542800992862460.jpg (300, 300, 3)\n",
            "> loaded n015-2018-11-21-19-38-26+0800__CAM_FRONT__1542800991412460.jpg (300, 300, 3)\n",
            "> loaded n015-2018-11-21-19-38-26+0800__CAM_FRONT__1542800989412460.jpg (300, 300, 3)\n",
            "> loaded n015-2018-11-21-19-38-26+0800__CAM_FRONT__1542800989912460.jpg (300, 300, 3)\n",
            "> loaded n015-2018-11-21-19-38-26+0800__CAM_FRONT__1542800990412460.jpg (300, 300, 3)\n",
            "> loaded n015-2018-11-21-19-38-26+0800__CAM_FRONT__1542800993862460.jpg (300, 300, 3)\n",
            "> loaded n015-2018-11-21-19-38-26+0800__CAM_FRONT__1542800992412460.jpg (300, 300, 3)\n",
            "> loaded n015-2018-11-21-19-38-26+0800__CAM_FRONT__1542800999912460.jpg (300, 300, 3)\n",
            "> loaded n015-2018-11-21-19-38-26+0800__CAM_FRONT__1542800996412460.jpg (300, 300, 3)\n",
            "> loaded n015-2018-11-21-19-38-26+0800__CAM_FRONT__1542800998362460.jpg (300, 300, 3)\n",
            "> loaded n015-2018-11-21-19-38-26+0800__CAM_FRONT__1542801000912460.jpg (300, 300, 3)\n",
            "> loaded n015-2018-11-21-19-38-26+0800__CAM_FRONT__1542800996912460.jpg (300, 300, 3)\n",
            "> loaded n015-2018-11-21-19-38-26+0800__CAM_FRONT__1542800995862460.jpg (300, 300, 3)\n",
            "> loaded n015-2018-11-21-19-38-26+0800__CAM_FRONT__1542800997412460.jpg (300, 300, 3)\n",
            "> loaded n015-2018-11-21-19-38-26+0800__CAM_FRONT__1542801000412460.jpg (300, 300, 3)\n",
            "> loaded n015-2018-11-21-19-38-26+0800__CAM_FRONT__1542800997912460.jpg (300, 300, 3)\n",
            "> loaded n015-2018-11-21-19-38-26+0800__CAM_FRONT__1542800998912460.jpg (300, 300, 3)\n",
            "> loaded n015-2018-11-21-19-38-26+0800__CAM_FRONT__1542800999412460.jpg (300, 300, 3)\n",
            "> loaded n015-2018-11-21-19-38-26+0800__CAM_FRONT__1542800995362460.jpg (300, 300, 3)\n",
            "> loaded n015-2018-11-21-19-38-26+0800__CAM_FRONT__1542801003912460.jpg (300, 300, 3)\n",
            "> loaded n015-2018-11-21-19-38-26+0800__CAM_FRONT__1542801004412460.jpg (300, 300, 3)\n",
            "> loaded n015-2018-11-21-19-38-26+0800__CAM_FRONT__1542801005912460.jpg (300, 300, 3)\n",
            "> loaded n015-2018-11-21-19-38-26+0800__CAM_FRONT__1542801002912460.jpg (300, 300, 3)\n",
            "> loaded n015-2018-11-21-19-38-26+0800__CAM_FRONT__1542801006912460.jpg (300, 300, 3)\n",
            "> loaded n015-2018-11-21-19-38-26+0800__CAM_FRONT__1542801001412460.jpg (300, 300, 3)\n",
            "> loaded n015-2018-11-21-19-38-26+0800__CAM_FRONT__1542801007412469.jpg (300, 300, 3)\n",
            "> loaded n015-2018-11-21-19-38-26+0800__CAM_FRONT__1542801002412460.jpg (300, 300, 3)\n",
            "> loaded n015-2018-11-21-19-38-26+0800__CAM_FRONT__1542801006412460.jpg (300, 300, 3)\n",
            "> loaded n015-2018-11-21-19-38-26+0800__CAM_FRONT__1542801003412460.jpg (300, 300, 3)\n",
            "> loaded n015-2018-11-21-19-38-26+0800__CAM_FRONT__1542801001912460.jpg (300, 300, 3)\n",
            "> loaded n015-2018-11-21-19-38-26+0800__CAM_FRONT__1542801005412460.jpg (300, 300, 3)\n",
            "> loaded n015-2018-11-21-19-38-26+0800__CAM_FRONT__1542801004912460.jpg (300, 300, 3)\n"
          ]
        }
      ],
      "source": [
        "from os import listdir\n",
        "from matplotlib import image\n",
        "uris = list()\n",
        "fan = list()\n",
        "for filename in listdir('gdrive/MyDrive/resize'):\n",
        "\t# load image\n",
        "\timg_data = image.imread('gdrive/MyDrive/resize/' + filename)\n",
        "\t# store loaded image\n",
        "    #image = Image.open(filename)\n",
        "    #image.show()\n",
        "\turis.append('gdrive/MyDrive/resize/' + filename)\n",
        "\tfan.append('samples/CAM_FRONT/'+filename)\n",
        "\tprint('> loaded %s %s' % (filename, img_data.shape))"
      ],
      "id": "zoVKgiZPgbb3"
    },
    {
      "cell_type": "markdown",
      "metadata": {
        "id": "amateur-experience"
      },
      "source": [
        "Prepare input images for object detection.\n",
        "(Example links below correspond to first few test images from the COCO dataset, but you can also specify paths to your local images here)"
      ],
      "id": "amateur-experience"
    },
    {
      "cell_type": "code",
      "execution_count": null,
      "metadata": {
        "id": "affected-chemistry"
      },
      "outputs": [],
      "source": [
        "# uris = [\n",
        "#     'http://images.cocodataset.org/val2017/000000397133.jpg',\n",
        "#     'http://images.cocodataset.org/val2017/000000037777.jpg',\n",
        "#     'http://images.cocodataset.org/val2017/000000252219.jpg'\n",
        "# ]\n",
        "#uris=loaded_images"
      ],
      "id": "affected-chemistry"
    },
    {
      "cell_type": "markdown",
      "metadata": {
        "id": "plain-salon"
      },
      "source": [
        "Format the images to comply with the network input and convert them to tensor."
      ],
      "id": "plain-salon"
    },
    {
      "cell_type": "code",
      "execution_count": null,
      "metadata": {
        "id": "liable-treatment"
      },
      "outputs": [],
      "source": [
        "inputs = [utils.prepare_input(uri) for uri in uris]\n",
        "tensor = utils.prepare_tensor(inputs)"
      ],
      "id": "liable-treatment"
    },
    {
      "cell_type": "markdown",
      "metadata": {
        "id": "civic-orlando"
      },
      "source": [
        "Run the SSD network to perform object detection."
      ],
      "id": "civic-orlando"
    },
    {
      "cell_type": "code",
      "execution_count": null,
      "metadata": {
        "id": "arabic-discipline"
      },
      "outputs": [],
      "source": [
        "with torch.no_grad():\n",
        "    detections_batch = ssd_model(tensor)"
      ],
      "id": "arabic-discipline"
    },
    {
      "cell_type": "markdown",
      "metadata": {
        "id": "processed-houston"
      },
      "source": [
        "By default, raw output from SSD network per input image contains\n",
        "8732 boxes with localization and class probability distribution.\n",
        "Let's filter this output to only get reasonable detections (confidence>40%) in a more comprehensive format."
      ],
      "id": "processed-houston"
    },
    {
      "cell_type": "code",
      "execution_count": null,
      "metadata": {
        "id": "adopted-hampshire"
      },
      "outputs": [],
      "source": [
        "results_per_input = utils.decode_results(detections_batch)\n",
        "best_results_per_input = [utils.pick_best(results, 0.40) for results in results_per_input]"
      ],
      "id": "adopted-hampshire"
    },
    {
      "cell_type": "markdown",
      "metadata": {
        "id": "circular-miniature"
      },
      "source": [
        "The model was trained on COCO dataset, which we need to access in order to translate class IDs into object names.\n",
        "For the first time, downloading annotations may take a while."
      ],
      "id": "circular-miniature"
    },
    {
      "cell_type": "code",
      "execution_count": null,
      "metadata": {
        "id": "infinite-fantasy"
      },
      "outputs": [],
      "source": [
        "classes_to_labels = utils.get_coco_object_dictionary()"
      ],
      "id": "infinite-fantasy"
    },
    {
      "cell_type": "code",
      "execution_count": null,
      "metadata": {
        "id": "ca5G6Urv6kgO",
        "colab": {
          "base_uri": "https://localhost:8080/"
        },
        "outputId": "e8785f30-ee71-4921-c01a-ebcc1d16ab11"
      },
      "outputs": [
        {
          "output_type": "execute_result",
          "data": {
            "text/plain": [
              "[array([[0.45423692, 0.5422543 , 0.51764435, 0.6245825 ],\n",
              "        [0.888757  , 0.5337701 , 0.91178346, 0.648736  ],\n",
              "        [0.8524687 , 0.53735894, 0.8794756 , 0.6496492 ],\n",
              "        [0.2688211 , 0.54748785, 0.29050454, 0.65290594]], dtype=float32),\n",
              " array([3, 1, 1, 1]),\n",
              " array([0.6689399 , 0.7345909 , 0.77332634, 0.7820357 ], dtype=float32)]"
            ]
          },
          "metadata": {},
          "execution_count": 11
        }
      ],
      "source": [
        "best_results_per_input[0]"
      ],
      "id": "ca5G6Urv6kgO"
    },
    {
      "cell_type": "markdown",
      "metadata": {
        "id": "magnetic-joining"
      },
      "source": [
        "Finally, let's visualize our detections"
      ],
      "id": "magnetic-joining"
    },
    {
      "cell_type": "code",
      "execution_count": null,
      "metadata": {
        "id": "zRTYeUHKMcCW"
      },
      "outputs": [],
      "source": [
        "# textfile = list()\n",
        "# for image_idx in range(len(best_results_per_input)):\n",
        "#   #fan[0]\n",
        "#   tr=''\n",
        "#   k=0\n",
        "#   for i in fan[image_idx]:\n",
        "#     if(k==0):\n",
        "#       tr=tr+i;\n",
        "#     else:\n",
        "#       tr=tr+'txt'\n",
        "#       break\n",
        "#     if(i=='.'):\n",
        "#       k=1;\n",
        "#   textfile.append(tr)"
      ],
      "id": "zRTYeUHKMcCW"
    },
    {
      "cell_type": "code",
      "execution_count": null,
      "metadata": {
        "id": "OHhgaSLINJz5"
      },
      "outputs": [],
      "source": [
        "#textfile[9]"
      ],
      "id": "OHhgaSLINJz5"
    },
    {
      "cell_type": "code",
      "source": [
        "pip install xlsxwriter"
      ],
      "metadata": {
        "id": "kMpNhdCOQC0c",
        "colab": {
          "base_uri": "https://localhost:8080/"
        },
        "outputId": "68d94bd6-bd4c-49e2-aa8b-eb39740e72de"
      },
      "id": "kMpNhdCOQC0c",
      "execution_count": null,
      "outputs": [
        {
          "output_type": "stream",
          "name": "stdout",
          "text": [
            "Looking in indexes: https://pypi.org/simple, https://us-python.pkg.dev/colab-wheels/public/simple/\n",
            "Requirement already satisfied: xlsxwriter in /usr/local/lib/python3.7/dist-packages (3.0.3)\n"
          ]
        }
      ]
    },
    {
      "cell_type": "code",
      "source": [
        "import xlsxwriter"
      ],
      "metadata": {
        "id": "8-lnWzLRJIoa"
      },
      "id": "8-lnWzLRJIoa",
      "execution_count": null,
      "outputs": []
    },
    {
      "cell_type": "code",
      "source": [
        "workbook = xlsxwriter.Workbook('predictions.xlsx')"
      ],
      "metadata": {
        "id": "RnZozY_WJM9e"
      },
      "id": "RnZozY_WJM9e",
      "execution_count": null,
      "outputs": []
    },
    {
      "cell_type": "code",
      "source": [
        "worksheet = workbook.add_worksheet()"
      ],
      "metadata": {
        "id": "VLALkAnfJSod"
      },
      "id": "VLALkAnfJSod",
      "execution_count": null,
      "outputs": []
    },
    {
      "cell_type": "code",
      "source": [
        "len(best_results_per_input)"
      ],
      "metadata": {
        "colab": {
          "base_uri": "https://localhost:8080/"
        },
        "id": "NLU07vA6WDW8",
        "outputId": "28e04478-43b1-42be-b637-07778d53cf48"
      },
      "id": "NLU07vA6WDW8",
      "execution_count": null,
      "outputs": [
        {
          "output_type": "execute_result",
          "data": {
            "text/plain": [
              "404"
            ]
          },
          "metadata": {},
          "execution_count": 18
        }
      ]
    },
    {
      "cell_type": "code",
      "source": [
        "count=0"
      ],
      "metadata": {
        "id": "QpoZkmK7WZU_"
      },
      "id": "QpoZkmK7WZU_",
      "execution_count": null,
      "outputs": []
    },
    {
      "cell_type": "code",
      "source": [
        "for image_idx in range(len(best_results_per_input)):\n",
        "  bboxes1, classes1, confidences1 = best_results_per_input[image_idx]\n",
        "  for idx in range(1,len(bboxes1)+1):\n",
        "    count=count+1\n",
        "    left1, bot1, right1, top1 = bboxes1[idx-1]\n",
        "    x1=(right1+left1)*800\n",
        "    x1=round(x1,2)\n",
        "    y1=(top1+bot1)*450\n",
        "    y1=round(y1,2)\n",
        "    w1=(right1-left1)*1600\n",
        "    w1=round(w1,2)\n",
        "    h1=(top1-bot1)*900\n",
        "    h1=round(h1,2)\n",
        "    l1=classes_to_labels[classes1[idx-1] - 1]\n",
        "    c1=confidences1[idx-1]*100\n",
        "    c1=round(c1,2)\n",
        "    worksheet.write('A'+str(count), '['+str(x1)+','+str(y1)+','+str(w1)+','+str(h1)+']')\n",
        "    worksheet.write('B'+str(count), str(c1))\n",
        "    worksheet.write('C'+str(count), l1)\n",
        "    worksheet.write('D'+str(count), str(fan[image_idx]))\n",
        "    "
      ],
      "metadata": {
        "id": "EdG1LjQgJXSM"
      },
      "id": "EdG1LjQgJXSM",
      "execution_count": null,
      "outputs": []
    },
    {
      "cell_type": "code",
      "source": [
        "workbook.close()"
      ],
      "metadata": {
        "id": "GYyYd_oJJVCh"
      },
      "id": "GYyYd_oJJVCh",
      "execution_count": null,
      "outputs": []
    },
    {
      "cell_type": "code",
      "execution_count": null,
      "metadata": {
        "id": "ynAgJDy3EipP"
      },
      "outputs": [],
      "source": [
        "# for image_idx in range(len(best_results_per_input)):\n",
        "#   f=open('gdrive/MyDrive/text/'+textfile[image_idx], mode=\"w\")\n",
        "#   bboxes1, classes1, confidences1 = best_results_per_input[image_idx]\n",
        "#   for idx in range(len(bboxes1)):\n",
        "#     left1, bot1, right1, top1 = bboxes1[idx]\n",
        "#     x1, y1, w1, h1 = [val * 300 for val in [left1, bot1, right1 - left1, top1 - bot1]]\n",
        "#     l1=classes_to_labels[classes1[idx] - 1]\n",
        "#     c1=confidences1[idx]*100\n",
        "#     f.write(l1)\n",
        "#     f.write(\" \")\n",
        "#     f.write(str(c1))\n",
        "#     f.write(\" \")\n",
        "#     f.write(str(x1))\n",
        "#     f.write(\" \")\n",
        "#     f.write(str(y1))\n",
        "#     f.write(\" \")\n",
        "#     f.write(str(w1))\n",
        "#     f.write(\" \")\n",
        "#     f.write(str(h1))\n",
        "#     f.write('\\n')\n",
        "#   f.close()\n"
      ],
      "id": "ynAgJDy3EipP"
    },
    {
      "cell_type": "code",
      "execution_count": null,
      "metadata": {
        "id": "ATlLx0CeBTPI"
      },
      "outputs": [],
      "source": [
        "#f.write('Create a new text file!')"
      ],
      "id": "ATlLx0CeBTPI"
    },
    {
      "cell_type": "code",
      "execution_count": null,
      "metadata": {
        "id": "matched-confidentiality"
      },
      "outputs": [],
      "source": [
        "# from matplotlib import pyplot as plt\n",
        "# import matplotlib.patches as patches\n",
        "\n",
        "# for image_idx in range(len(best_results_per_input)):\n",
        "#     fig, ax = plt.subplots(1)\n",
        "#     # Show original, denormalized image...\n",
        "#     image = inputs[image_idx] / 2 + 0.5\n",
        "#     ax.imshow(image)\n",
        "#     # ...with detections\n",
        "#     bboxes, classes, confidences = best_results_per_input[image_idx]\n",
        "#     for idx in range(len(bboxes)):\n",
        "#         left, bot, right, top = bboxes[idx]\n",
        "#         x, y, w, h = [val * 300 for val in [left, bot, right - left, top - bot]]\n",
        "#         rect = patches.Rectangle((x, y), w, h, linewidth=1, edgecolor='r', facecolor='none')\n",
        "#         ax.add_patch(rect)\n",
        "#         ax.text(x, y, \"{} {:.0f}%\".format(classes_to_labels[classes[idx] - 1], confidences[idx]*100), bbox=dict(facecolor='white', alpha=0.5))\n",
        "#     plt.savefig('gdrive/MyDrive/result/{0}'.format(fan[image_idx]))\n",
        "# #plt.show()\n"
      ],
      "id": "matched-confidentiality"
    },
    {
      "cell_type": "markdown",
      "metadata": {
        "id": "dying-ribbon"
      },
      "source": [
        "### Details\n",
        "For detailed information on model input and output,\n",
        "training recipies, inference and performance visit:\n",
        "[github](https://github.com/NVIDIA/DeepLearningExamples/tree/master/PyTorch/Detection/SSD)\n",
        "and/or [NGC](https://ngc.nvidia.com/catalog/resources/nvidia:ssd_for_pytorch)\n",
        "\n",
        "### References\n",
        "\n",
        " - [SSD: Single Shot MultiBox Detector](https://arxiv.org/abs/1512.02325) paper\n",
        " - [Speed/accuracy trade-offs for modern convolutional object detectors](https://arxiv.org/abs/1611.10012) paper\n",
        " - [SSD on NGC](https://ngc.nvidia.com/catalog/resources/nvidia:ssd_for_pytorch)\n",
        " - [SSD on github](https://github.com/NVIDIA/DeepLearningExamples/tree/master/PyTorch/Detection/SSD)"
      ],
      "id": "dying-ribbon"
    }
  ],
  "metadata": {
    "accelerator": "GPU",
    "colab": {
      "collapsed_sections": [],
      "name": "ssd_working code.ipynb",
      "provenance": []
    },
    "gpuClass": "standard",
    "kernelspec": {
      "display_name": "Python 3",
      "name": "python3"
    },
    "language_info": {
      "name": "python"
    }
  },
  "nbformat": 4,
  "nbformat_minor": 5
}