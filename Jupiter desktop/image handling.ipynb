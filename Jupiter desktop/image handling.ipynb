{
 "cells": [
  {
   "cell_type": "code",
   "execution_count": 21,
   "id": "1a0ddb08",
   "metadata": {},
   "outputs": [
    {
     "ename": "IndentationError",
     "evalue": "unindent does not match any outer indentation level (<tokenize>, line 9)",
     "output_type": "error",
     "traceback": [
      "\u001b[1;36m  File \u001b[1;32m\"<tokenize>\"\u001b[1;36m, line \u001b[1;32m9\u001b[0m\n\u001b[1;33m    image = Image.open(filename)\u001b[0m\n\u001b[1;37m    ^\u001b[0m\n\u001b[1;31mIndentationError\u001b[0m\u001b[1;31m:\u001b[0m unindent does not match any outer indentation level\n"
     ]
    }
   ],
   "source": [
    "# load all images in a directory\n",
    "from os import listdir\n",
    "from matplotlib import image\n",
    "loaded_images = list()\n",
    "for filename in listdir('images'):\n",
    "\t# load image\n",
    "\timg_data = image.imread('images/' + filename)\n",
    "\t# store loaded image\n",
    "    #image = Image.open(filename)\n",
    "    #image.show()\n",
    "\tloaded_images.append(img_data)\n",
    "\tprint('> loaded %s %s' % (filename, img_data.shape))"
   ]
  },
  {
   "cell_type": "code",
   "execution_count": 25,
   "id": "1e928095",
   "metadata": {},
   "outputs": [],
   "source": [
    "import cv\n",
    "import glob\n",
    "from matplotlib import image\n",
    "\n",
    "imdir = 'images/'\n",
    "ext = ['png', 'jpg', 'gif']    # Add image formats here\n",
    "\n",
    "files = []\n",
    "[files.extend(glob.glob(imdir + '*.' + e)) for e in ext]\n",
    "\n",
    "#images = [cv.imread(file) for file in files]\n",
    "#images.show()\n",
    "for file in files:\n",
    "    image=Image.open(file)\n",
    "    image.show()"
   ]
  },
  {
   "cell_type": "code",
   "execution_count": null,
   "id": "e12982ad",
   "metadata": {},
   "outputs": [],
   "source": []
  }
 ],
 "metadata": {
  "kernelspec": {
   "display_name": "Python 3",
   "language": "python",
   "name": "python3"
  },
  "language_info": {
   "codemirror_mode": {
    "name": "ipython",
    "version": 3
   },
   "file_extension": ".py",
   "mimetype": "text/x-python",
   "name": "python",
   "nbconvert_exporter": "python",
   "pygments_lexer": "ipython3",
   "version": "3.8.8"
  }
 },
 "nbformat": 4,
 "nbformat_minor": 5
}
